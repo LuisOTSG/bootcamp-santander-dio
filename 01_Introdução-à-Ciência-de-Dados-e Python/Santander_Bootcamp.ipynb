{
  "cells": [
    {
      "cell_type": "markdown",
      "metadata": {
        "id": "BPJQsTCULaC-"
      },
      "source": [
        "# Santander Bootcamp Ciência de Dados com Python 2023 (Explorando IA Generativa em um Pipeline de ETL com Python)\n",
        "\n"
      ]
    },
    {
      "cell_type": "markdown",
      "metadata": {
        "id": "k5fA5OrXt1a3"
      },
      "source": [
        "**Contexto:** Você é um cientista de dados no Santander e recebeu a tarefa de envolver seus clientes de maneira mais personalizada. Seu objetivo é usar o poder da IA Generativa para criar mensagens de marketing personalizadas que serão entregues a cada cliente.\n",
        "\n",
        "**Condições do Problema:**\n",
        "\n",
        "1. Você recebeu uma planilha simples, em formato CSV ('SBCDP2023.csv'), com uma lista de IDs de usuário do banco:\n",
        "  ```\n",
        "  UserID\n",
        "  1\n",
        "  2\n",
        "  3\n",
        "  4\n",
        "  5\n",
        "  ```\n",
        "2. Seu trabalho é consumir o endpoint `GET https://sdw-2023-prd.up.railway.app/users/{id}` (API da Santander Dev Week 2023) para obter os dados de cada cliente.\n",
        "3. Depois de obter os dados dos clientes, você vai usar a API do ChatGPT (OpenAI) para gerar uma mensagem de marketing personalizada para cada cliente. Essa mensagem deve enfatizar a importância dos investimentos.\n",
        "4. Uma vez que a mensagem para cada cliente esteja pronta, você vai enviar essas informações de volta para a API, atualizando a lista de \"news\" de cada usuário usando o endpoint `PUT https://sdw-2023-prd.up.railway.app/users/{id}`.\n",
        "\n"
      ]
    },
    {
      "cell_type": "code",
      "execution_count": null,
      "metadata": {
        "id": "FKqLC_CWoYqR"
      },
      "outputs": [],
      "source": [
        "# Utilize sua própria URL se quiser ;)\n",
        "# Repositório da API: https://github.com/digitalinnovationone/santander-dev-week-2023-api\n",
        "sbcdp2023_api_url = 'https://sdw-2023-prd.up.railway.app'"
      ]
    },
    {
      "cell_type": "markdown",
      "metadata": {
        "id": "9dfI-o7gLRq9"
      },
      "source": [
        "## **E**xtract\n",
        "\n",
        "Extraia a lista de IDs de usuário a partir do arquivo CSV. Para cada ID, faça uma requisição GET para obter os dados do usuário correspondente.\n",
        "\n",
        "_Entendendo o arquivo:_ **SBCDP2023 - Santander Bootcamp Ciência de Dados com Python 2023**"
      ]
    },
    {
      "cell_type": "markdown",
      "metadata": {
        "id": "IjiEvxxIy3RO"
      },
      "source": [
        "- [X] Extrair os IDS do arquivo CSV"
      ]
    },
    {
      "cell_type": "code",
      "execution_count": null,
      "metadata": {
        "colab": {
          "base_uri": "https://localhost:8080/"
        },
        "id": "NYydpX_GLRCB",
        "outputId": "63934d7f-d6eb-4ba5-e777-daac879d6c1d"
      },
      "outputs": [
        {
          "output_type": "stream",
          "name": "stdout",
          "text": [
            "[597, 598, 599]\n"
          ]
        }
      ],
      "source": [
        "import pandas as pd\n",
        "\n",
        "df = pd.read_csv('SBCDP2023.csv')\n",
        "user_ids = df['UserID'].tolist()\n",
        "print(user_ids)"
      ]
    },
    {
      "cell_type": "markdown",
      "metadata": {
        "id": "URtlzsIYzHG1"
      },
      "source": [
        "- [x] Obter os dados de cada ID usando a API da Santander Dev Week 2023"
      ]
    },
    {
      "cell_type": "code",
      "execution_count": null,
      "metadata": {
        "colab": {
          "base_uri": "https://localhost:8080/"
        },
        "id": "F5XOuCZGSTGw",
        "outputId": "8bd52de2-e177-42ea-c465-2bde38bbe655"
      },
      "outputs": [
        {
          "output_type": "stream",
          "name": "stdout",
          "text": [
            "[\n",
            "   {\n",
            "      \"id\": 597,\n",
            "      \"name\": \"James\",\n",
            "      \"account\": {\n",
            "         \"id\": 607,\n",
            "         \"number\": \"000002-02\",\n",
            "         \"agency\": \"0001\",\n",
            "         \"balance\": 0.0,\n",
            "         \"limit\": 5000.0\n",
            "      },\n",
            "      \"card\": {\n",
            "         \"id\": 571,\n",
            "         \"number\": \"**** **** **** 0220\",\n",
            "         \"limit\": 1000.0\n",
            "      },\n",
            "      \"features\": [],\n",
            "      \"news\": []\n",
            "   },\n",
            "   {\n",
            "      \"id\": 598,\n",
            "      \"name\": \"Curry\",\n",
            "      \"account\": {\n",
            "         \"id\": 608,\n",
            "         \"number\": \"000003-03\",\n",
            "         \"agency\": \"0001\",\n",
            "         \"balance\": 0.0,\n",
            "         \"limit\": 5000.0\n",
            "      },\n",
            "      \"card\": {\n",
            "         \"id\": 572,\n",
            "         \"number\": \"**** **** **** 0330\",\n",
            "         \"limit\": 1000.0\n",
            "      },\n",
            "      \"features\": [],\n",
            "      \"news\": []\n",
            "   },\n",
            "   {\n",
            "      \"id\": 599,\n",
            "      \"name\": \"Jordan\",\n",
            "      \"account\": {\n",
            "         \"id\": 609,\n",
            "         \"number\": \"000004-04\",\n",
            "         \"agency\": \"0001\",\n",
            "         \"balance\": 0.0,\n",
            "         \"limit\": 5000.0\n",
            "      },\n",
            "      \"card\": {\n",
            "         \"id\": 573,\n",
            "         \"number\": \"**** **** **** 0440\",\n",
            "         \"limit\": 1000.0\n",
            "      },\n",
            "      \"features\": [],\n",
            "      \"news\": []\n",
            "   }\n",
            "]\n"
          ]
        }
      ],
      "source": [
        "import requests\n",
        "import json\n",
        "\n",
        "# Função para obter detalhes de um usuário por meio do arquivo CSV com uma solicitação GET à API da Santander Dev Week 2023\n",
        "def get_user(id):\n",
        "  response = requests.get(f'{sbcdp2023_api_url}/users/{id}')\n",
        "  return response.json() if response.status_code == 200 else None\n",
        "\n",
        "# Lista de usuários válidos obtidos através da função get_user\n",
        "users = [user for id in user_ids if (user := get_user(id)) is not None]\n",
        "\n",
        "# Imprimir os detalhes dos usuários em formato JSON formatado\n",
        "for user in users:\n",
        "    user['news'] = [] # Limpar a lista de 'news' existente pois o exercício já foi executado anteriormente\n",
        "print(json.dumps(users, indent=3))"
      ]
    },
    {
      "cell_type": "markdown",
      "metadata": {
        "id": "cWoqInB4TF1x"
      },
      "source": [
        "## **T**ransform\n",
        "\n",
        "Utilize a API do OpenAI GPT-4 para gerar uma mensagem de marketing personalizada para cada usuário."
      ]
    },
    {
      "cell_type": "code",
      "execution_count": null,
      "metadata": {
        "colab": {
          "base_uri": "https://localhost:8080/"
        },
        "id": "O--PCAObTQkK",
        "outputId": "ffbb3cf5-63d6-4c33-cb4d-39fa50899022"
      },
      "outputs": [
        {
          "output_type": "stream",
          "name": "stdout",
          "text": [
            "Requirement already satisfied: openai in /usr/local/lib/python3.10/dist-packages (0.27.9)\n",
            "Requirement already satisfied: requests>=2.20 in /usr/local/lib/python3.10/dist-packages (from openai) (2.31.0)\n",
            "Requirement already satisfied: tqdm in /usr/local/lib/python3.10/dist-packages (from openai) (4.66.1)\n",
            "Requirement already satisfied: aiohttp in /usr/local/lib/python3.10/dist-packages (from openai) (3.8.5)\n",
            "Requirement already satisfied: charset-normalizer<4,>=2 in /usr/local/lib/python3.10/dist-packages (from requests>=2.20->openai) (3.2.0)\n",
            "Requirement already satisfied: idna<4,>=2.5 in /usr/local/lib/python3.10/dist-packages (from requests>=2.20->openai) (3.4)\n",
            "Requirement already satisfied: urllib3<3,>=1.21.1 in /usr/local/lib/python3.10/dist-packages (from requests>=2.20->openai) (2.0.4)\n",
            "Requirement already satisfied: certifi>=2017.4.17 in /usr/local/lib/python3.10/dist-packages (from requests>=2.20->openai) (2023.7.22)\n",
            "Requirement already satisfied: attrs>=17.3.0 in /usr/local/lib/python3.10/dist-packages (from aiohttp->openai) (23.1.0)\n",
            "Requirement already satisfied: multidict<7.0,>=4.5 in /usr/local/lib/python3.10/dist-packages (from aiohttp->openai) (6.0.4)\n",
            "Requirement already satisfied: async-timeout<5.0,>=4.0.0a3 in /usr/local/lib/python3.10/dist-packages (from aiohttp->openai) (4.0.3)\n",
            "Requirement already satisfied: yarl<2.0,>=1.0 in /usr/local/lib/python3.10/dist-packages (from aiohttp->openai) (1.9.2)\n",
            "Requirement already satisfied: frozenlist>=1.1.1 in /usr/local/lib/python3.10/dist-packages (from aiohttp->openai) (1.4.0)\n",
            "Requirement already satisfied: aiosignal>=1.1.2 in /usr/local/lib/python3.10/dist-packages (from aiohttp->openai) (1.3.1)\n"
          ]
        }
      ],
      "source": [
        "!pip install openai"
      ]
    },
    {
      "cell_type": "code",
      "execution_count": null,
      "metadata": {
        "id": "sUB1doiDTX3y"
      },
      "outputs": [],
      "source": [
        "# Documentação Oficial da API OpenAI: https://platform.openai.com/docs/api-reference/introduction\n",
        "# Informações sobre o Período Gratuito: https://help.openai.com/en/articles/4936830\n",
        "\n",
        "# Para gerar uma API Key:\n",
        "# 1. Crie uma conta na OpenAI\n",
        "# 2. Acesse a seção \"API Keys\"\n",
        "# 3. Clique em \"Create API Key\"\n",
        "# Link direto: https://platform.openai.com/account/api-keys\n",
        "\n",
        "# Substitua o texto TODO por sua API Key da OpenAI, ela será salva como uma variável de ambiente.\n",
        "openai_api_key = 'TODO'"
      ]
    },
    {
      "cell_type": "markdown",
      "metadata": {
        "id": "sdy9LHQT5DwG"
      },
      "source": [
        "- [X] Devido à limitação de não ter acesso à créditos da API da OpenAI, a solução foi criar manualmente com as mensagens personalizadas em uma função diferente da proposta"
      ]
    },
    {
      "cell_type": "code",
      "execution_count": null,
      "metadata": {
        "colab": {
          "base_uri": "https://localhost:8080/"
        },
        "id": "n1w78kNxTrZY",
        "outputId": "0e224d9b-40c2-46b6-ccfd-c4e83f14b97d"
      },
      "outputs": [
        {
          "output_type": "stream",
          "name": "stdout",
          "text": [
            "Jogue bem dentro e fora da quadra: Invista no seu amanhã, James! #SucessoForaDaQuadra #FuturoBrilhante #InvestindoNoAmanhã\n",
            "Jogue bem dentro e fora da quadra: Invista no seu amanhã, Curry! #SucessoForaDaQuadra #FuturoBrilhante #InvestindoNoAmanhã\n",
            "Jogue bem dentro e fora da quadra: Invista no seu amanhã, Jordan! #SucessoForaDaQuadra #FuturoBrilhante #InvestindoNoAmanhã\n"
          ]
        }
      ],
      "source": [
        "# Função para gerar a mensagem personalizada\n",
        "def send_message(user):\n",
        "    messages= f\"Jogue bem dentro e fora da quadra: Invista no seu amanhã, {user['name']}! #SucessoForaDaQuadra #FuturoBrilhante #InvestindoNoAmanhã\"\n",
        "    return messages\n",
        "\n",
        "# Loop para atualizar os usuários\n",
        "for user in users:\n",
        "    user['news'] = [] # Limpar a lista de 'news' existente\n",
        "    news = send_message(user) # Gera a mensagem personalizada usando a função send_message\n",
        "    print(news) # Imprime a mensagem gerada\n",
        "    user['news'].append({\n",
        "        \"icon\": \"https://digitalinnovationone.github.io/santander-dev-week-2023-api/icons/credit.svg\",\n",
        "        \"description\": news # Adiciona a mensagem à lista de 'news' do usuário\n",
        "    })"
      ]
    },
    {
      "cell_type": "markdown",
      "metadata": {
        "id": "kNuP0SDUZMBY"
      },
      "source": [
        "## **L**oad\n",
        "\n",
        "Atualize a lista de \"news\" de cada usuário na API com a nova mensagem gerada."
      ]
    },
    {
      "cell_type": "code",
      "execution_count": null,
      "metadata": {
        "colab": {
          "base_uri": "https://localhost:8080/"
        },
        "id": "YefWfYBoZMN2",
        "outputId": "8f9e4bd6-285d-4907-aa34-a021254db6e8"
      },
      "outputs": [
        {
          "output_type": "stream",
          "name": "stdout",
          "text": [
            "User James updated? True!\n",
            "User Curry updated? True!\n",
            "User Jordan updated? True!\n"
          ]
        }
      ],
      "source": [
        "# Função para atualizar os detalhes do usuário na API\n",
        "def update_user(user):\n",
        "    response = requests.put(f\"{sbcdp2023_api_url}/users/{user['id']}\", json=user)\n",
        "    return True if response.status_code == 200 else False\n",
        "\n",
        "# Loop para iterar pelos usuários e atualizar suas informações\n",
        "for user in users:\n",
        "    success = update_user(user) # Chama a função para atualizar o usuário na API\n",
        "    print(f\"User {user['name']} updated? {success}!\") # Imprime se a atualização foi bem-sucedida ou não"
      ]
    }
  ],
  "metadata": {
    "colab": {
      "provenance": []
    },
    "kernelspec": {
      "display_name": "Python 3",
      "name": "python3"
    },
    "language_info": {
      "name": "python"
    }
  },
  "nbformat": 4,
  "nbformat_minor": 0
}